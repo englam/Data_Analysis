{
 "cells": [
  {
   "cell_type": "markdown",
   "metadata": {},
   "source": [
    "## 統計分析"
   ]
  },
  {
   "cell_type": "code",
   "execution_count": 16,
   "metadata": {},
   "outputs": [
    {
     "data": {
      "text/html": [
       "<div>\n",
       "<style>\n",
       "    .dataframe thead tr:only-child th {\n",
       "        text-align: right;\n",
       "    }\n",
       "\n",
       "    .dataframe thead th {\n",
       "        text-align: left;\n",
       "    }\n",
       "\n",
       "    .dataframe tbody tr th {\n",
       "        vertical-align: top;\n",
       "    }\n",
       "</style>\n",
       "<table border=\"1\" class=\"dataframe\">\n",
       "  <thead>\n",
       "    <tr style=\"text-align: right;\">\n",
       "      <th></th>\n",
       "      <th>A</th>\n",
       "      <th>B</th>\n",
       "      <th>C</th>\n",
       "      <th>D</th>\n",
       "    </tr>\n",
       "  </thead>\n",
       "  <tbody>\n",
       "    <tr>\n",
       "      <th>e1</th>\n",
       "      <td>0.544659</td>\n",
       "      <td>0.264694</td>\n",
       "      <td>0.869152</td>\n",
       "      <td>0.719924</td>\n",
       "    </tr>\n",
       "    <tr>\n",
       "      <th>e2</th>\n",
       "      <td>0.728900</td>\n",
       "      <td>0.362820</td>\n",
       "      <td>0.338358</td>\n",
       "      <td>0.207052</td>\n",
       "    </tr>\n",
       "    <tr>\n",
       "      <th>e3</th>\n",
       "      <td>0.801752</td>\n",
       "      <td>0.582177</td>\n",
       "      <td>0.721261</td>\n",
       "      <td>0.894745</td>\n",
       "    </tr>\n",
       "    <tr>\n",
       "      <th>e4</th>\n",
       "      <td>0.739685</td>\n",
       "      <td>0.655716</td>\n",
       "      <td>0.711903</td>\n",
       "      <td>0.592148</td>\n",
       "    </tr>\n",
       "    <tr>\n",
       "      <th>e5</th>\n",
       "      <td>0.137199</td>\n",
       "      <td>0.103257</td>\n",
       "      <td>0.674451</td>\n",
       "      <td>0.254149</td>\n",
       "    </tr>\n",
       "    <tr>\n",
       "      <th>e6</th>\n",
       "      <td>0.166954</td>\n",
       "      <td>0.733572</td>\n",
       "      <td>0.775449</td>\n",
       "      <td>0.978770</td>\n",
       "    </tr>\n",
       "  </tbody>\n",
       "</table>\n",
       "</div>"
      ],
      "text/plain": [
       "           A         B         C         D\n",
       "e1  0.544659  0.264694  0.869152  0.719924\n",
       "e2  0.728900  0.362820  0.338358  0.207052\n",
       "e3  0.801752  0.582177  0.721261  0.894745\n",
       "e4  0.739685  0.655716  0.711903  0.592148\n",
       "e5  0.137199  0.103257  0.674451  0.254149\n",
       "e6  0.166954  0.733572  0.775449  0.978770"
      ]
     },
     "execution_count": 16,
     "metadata": {},
     "output_type": "execute_result"
    }
   ],
   "source": [
    "import matplotlib.pyplot as plt\n",
    "import pandas as pd\n",
    "import numpy as np\n",
    "plt.style.use('ggplot')\n",
    "\n",
    "#pandas作圖不使用plt.show()，若要顯示在Jupyter Notebook上，需先執行以下程式碼：（%是直接在terminal中執行command line的意思）\n",
    "%matplotlib inline\n",
    "\n",
    "df = pd.DataFrame(np.random.rand(6,4),index=['e1','e2','e3','e4','e5','e6'],columns=['A','B','C','D'])\n",
    "\n",
    "df"
   ]
  },
  {
   "cell_type": "markdown",
   "metadata": {},
   "source": [
    "mean 指的是平均數，例如 1+2+3 =6 ， 6/3 = 2， Anser : 2\n",
    "std  指的是標準差 (Standard Deviation)（sigma)\n",
    "min  取最小值\n",
    "25%  為四分位數的Q1\n",
    "50%  為四分位數的Q2\n",
    "75%  為四分位數的Q3\n",
    "max  取最大值"
   ]
  },
  {
   "cell_type": "code",
   "execution_count": 6,
   "metadata": {},
   "outputs": [
    {
     "data": {
      "text/html": [
       "<div>\n",
       "<style>\n",
       "    .dataframe thead tr:only-child th {\n",
       "        text-align: right;\n",
       "    }\n",
       "\n",
       "    .dataframe thead th {\n",
       "        text-align: left;\n",
       "    }\n",
       "\n",
       "    .dataframe tbody tr th {\n",
       "        vertical-align: top;\n",
       "    }\n",
       "</style>\n",
       "<table border=\"1\" class=\"dataframe\">\n",
       "  <thead>\n",
       "    <tr style=\"text-align: right;\">\n",
       "      <th></th>\n",
       "      <th>A</th>\n",
       "      <th>B</th>\n",
       "      <th>C</th>\n",
       "      <th>D</th>\n",
       "    </tr>\n",
       "  </thead>\n",
       "  <tbody>\n",
       "    <tr>\n",
       "      <th>count</th>\n",
       "      <td>6.000000</td>\n",
       "      <td>6.000000</td>\n",
       "      <td>6.000000</td>\n",
       "      <td>6.000000</td>\n",
       "    </tr>\n",
       "    <tr>\n",
       "      <th>mean</th>\n",
       "      <td>0.721137</td>\n",
       "      <td>0.607340</td>\n",
       "      <td>0.350511</td>\n",
       "      <td>0.552267</td>\n",
       "    </tr>\n",
       "    <tr>\n",
       "      <th>std</th>\n",
       "      <td>0.234050</td>\n",
       "      <td>0.242286</td>\n",
       "      <td>0.293461</td>\n",
       "      <td>0.256410</td>\n",
       "    </tr>\n",
       "    <tr>\n",
       "      <th>min</th>\n",
       "      <td>0.435779</td>\n",
       "      <td>0.321980</td>\n",
       "      <td>0.063143</td>\n",
       "      <td>0.287175</td>\n",
       "    </tr>\n",
       "    <tr>\n",
       "      <th>25%</th>\n",
       "      <td>0.519023</td>\n",
       "      <td>0.465500</td>\n",
       "      <td>0.118622</td>\n",
       "      <td>0.344177</td>\n",
       "    </tr>\n",
       "    <tr>\n",
       "      <th>50%</th>\n",
       "      <td>0.760676</td>\n",
       "      <td>0.530656</td>\n",
       "      <td>0.273077</td>\n",
       "      <td>0.525848</td>\n",
       "    </tr>\n",
       "    <tr>\n",
       "      <th>75%</th>\n",
       "      <td>0.896953</td>\n",
       "      <td>0.802104</td>\n",
       "      <td>0.561024</td>\n",
       "      <td>0.696471</td>\n",
       "    </tr>\n",
       "    <tr>\n",
       "      <th>max</th>\n",
       "      <td>0.988838</td>\n",
       "      <td>0.924380</td>\n",
       "      <td>0.769624</td>\n",
       "      <td>0.937764</td>\n",
       "    </tr>\n",
       "  </tbody>\n",
       "</table>\n",
       "</div>"
      ],
      "text/plain": [
       "              A         B         C         D\n",
       "count  6.000000  6.000000  6.000000  6.000000\n",
       "mean   0.721137  0.607340  0.350511  0.552267\n",
       "std    0.234050  0.242286  0.293461  0.256410\n",
       "min    0.435779  0.321980  0.063143  0.287175\n",
       "25%    0.519023  0.465500  0.118622  0.344177\n",
       "50%    0.760676  0.530656  0.273077  0.525848\n",
       "75%    0.896953  0.802104  0.561024  0.696471\n",
       "max    0.988838  0.924380  0.769624  0.937764"
      ]
     },
     "execution_count": 6,
     "metadata": {},
     "output_type": "execute_result"
    }
   ],
   "source": [
    "#敘述性統計\n",
    "df.describe()"
   ]
  },
  {
   "cell_type": "code",
   "execution_count": 26,
   "metadata": {},
   "outputs": [
    {
     "data": {
      "text/plain": [
       "A    0.721137\n",
       "B    0.607340\n",
       "C    0.350511\n",
       "D    0.552267\n",
       "dtype: float64"
      ]
     },
     "execution_count": 26,
     "metadata": {},
     "output_type": "execute_result"
    }
   ],
   "source": [
    "df.mean()"
   ]
  },
  {
   "cell_type": "code",
   "execution_count": 27,
   "metadata": {},
   "outputs": [
    {
     "data": {
      "text/plain": [
       "A    0.234050\n",
       "B    0.242286\n",
       "C    0.293461\n",
       "D    0.256410\n",
       "dtype: float64"
      ]
     },
     "execution_count": 27,
     "metadata": {},
     "output_type": "execute_result"
    }
   ],
   "source": [
    "df.std()"
   ]
  },
  {
   "cell_type": "code",
   "execution_count": 28,
   "metadata": {},
   "outputs": [
    {
     "data": {
      "text/plain": [
       "A    0.988838\n",
       "B    0.924380\n",
       "C    0.769624\n",
       "D    0.937764\n",
       "dtype: float64"
      ]
     },
     "execution_count": 28,
     "metadata": {},
     "output_type": "execute_result"
    }
   ],
   "source": [
    "df.max()"
   ]
  },
  {
   "cell_type": "code",
   "execution_count": 29,
   "metadata": {},
   "outputs": [
    {
     "data": {
      "text/plain": [
       "A    0.435779\n",
       "B    0.321980\n",
       "C    0.063143\n",
       "D    0.287175\n",
       "dtype: float64"
      ]
     },
     "execution_count": 29,
     "metadata": {},
     "output_type": "execute_result"
    }
   ],
   "source": [
    "df.min()"
   ]
  },
  {
   "cell_type": "code",
   "execution_count": 30,
   "metadata": {},
   "outputs": [
    {
     "data": {
      "text/plain": [
       "A    0.760676\n",
       "B    0.530656\n",
       "C    0.273077\n",
       "D    0.525848\n",
       "dtype: float64"
      ]
     },
     "execution_count": 30,
     "metadata": {},
     "output_type": "execute_result"
    }
   ],
   "source": [
    "#中位數\n",
    "df.median()"
   ]
  },
  {
   "cell_type": "code",
   "execution_count": 31,
   "metadata": {},
   "outputs": [
    {
     "data": {
      "text/plain": [
       "A    0.519023\n",
       "B    0.465500\n",
       "C    0.118622\n",
       "D    0.344177\n",
       "Name: 0.25, dtype: float64"
      ]
     },
     "execution_count": 31,
     "metadata": {},
     "output_type": "execute_result"
    }
   ],
   "source": [
    "#四分位數，Q1\n",
    "df.quantile(0.25)"
   ]
  },
  {
   "cell_type": "code",
   "execution_count": 32,
   "metadata": {},
   "outputs": [
    {
     "data": {
      "text/plain": [
       "A    0.760676\n",
       "B    0.530656\n",
       "C    0.273077\n",
       "D    0.525848\n",
       "Name: 0.5, dtype: float64"
      ]
     },
     "execution_count": 32,
     "metadata": {},
     "output_type": "execute_result"
    }
   ],
   "source": [
    "#四分位數，Q2\n",
    "df.quantile(0.5)"
   ]
  },
  {
   "cell_type": "code",
   "execution_count": 33,
   "metadata": {},
   "outputs": [
    {
     "data": {
      "text/plain": [
       "A    0.896953\n",
       "B    0.802104\n",
       "C    0.561024\n",
       "D    0.696471\n",
       "Name: 0.75, dtype: float64"
      ]
     },
     "execution_count": 33,
     "metadata": {},
     "output_type": "execute_result"
    }
   ],
   "source": [
    "#四分位數，Q3\n",
    "df.quantile(0.75)"
   ]
  },
  {
   "cell_type": "code",
   "execution_count": 35,
   "metadata": {},
   "outputs": [
    {
     "data": {
      "text/plain": [
       "A    4.326820\n",
       "B    3.644038\n",
       "C    2.103065\n",
       "D    3.313602\n",
       "dtype: float64"
      ]
     },
     "execution_count": 35,
     "metadata": {},
     "output_type": "execute_result"
    }
   ],
   "source": [
    "#總和, 1+2+3 = 6 , Answer = 6\n",
    "df.sum()"
   ]
  },
  {
   "cell_type": "markdown",
   "metadata": {},
   "source": [
    "## 變異數\n",
    "在機率論和統計學中，一個隨機變量的變異量數描述的是它的離散程度，也就是該變量離其期望值的距離"
   ]
  },
  {
   "cell_type": "code",
   "execution_count": 36,
   "metadata": {},
   "outputs": [
    {
     "data": {
      "text/plain": [
       "A    0.054780\n",
       "B    0.058702\n",
       "C    0.086120\n",
       "D    0.065746\n",
       "dtype: float64"
      ]
     },
     "execution_count": 36,
     "metadata": {},
     "output_type": "execute_result"
    }
   ],
   "source": [
    "#變異數\n",
    "df.var()"
   ]
  },
  {
   "cell_type": "markdown",
   "metadata": {},
   "source": [
    "## 幾何平均數（Scipy.stats）"
   ]
  },
  {
   "cell_type": "code",
   "execution_count": 2,
   "metadata": {},
   "outputs": [
    {
     "data": {
      "text/plain": [
       "1.0479480137027495"
      ]
     },
     "execution_count": 2,
     "metadata": {},
     "output_type": "execute_result"
    }
   ],
   "source": [
    "from scipy import stats\n",
    "x = [1.2,1.15,0.96,0.9,1.06]\n",
    "\n",
    "\n",
    "#幾何平均數，通常用來算利潤及成長百分比，ex, 公司成長百分比為 3%, 8%, 6%, 9%， 那麼成長的利潤可以用幾何平均數算出來, 可參考y\n",
    "#算法 開根號4次方 裡面 3x8x6x9 = 6\n",
    "\n",
    "stats.gmean(x)"
   ]
  },
  {
   "cell_type": "code",
   "execution_count": 41,
   "metadata": {},
   "outputs": [
    {
     "data": {
      "text/plain": [
       "6.0"
      ]
     },
     "execution_count": 41,
     "metadata": {},
     "output_type": "execute_result"
    }
   ],
   "source": [
    "y = [3,8,6,9]\n",
    "stats.gmean(y)"
   ]
  },
  {
   "cell_type": "markdown",
   "metadata": {},
   "source": [
    "## 調和平均數（Scipy.stats）"
   ]
  },
  {
   "cell_type": "code",
   "execution_count": 42,
   "metadata": {},
   "outputs": [
    {
     "data": {
      "text/plain": [
       "200.0"
      ]
     },
     "execution_count": 42,
     "metadata": {},
     "output_type": "execute_result"
    }
   ],
   "source": [
    "#較常用來算速率可以用， 公司為 H = n / 1/x1 + 1/x2 +...\n",
    "# ex , n代表幾個數, 如高鐵去的速率為 300 ，回的速率為150， 算出平均數為多少\n",
    "# n=2 , 因為來回,  H = 2 / 1/300 + 1/150 = 200\n",
    "x = [300,150]\n",
    "stats.hmean(x)"
   ]
  },
  {
   "cell_type": "markdown",
   "metadata": {
    "collapsed": true
   },
   "source": [
    "## 四分位數"
   ]
  },
  {
   "cell_type": "code",
   "execution_count": 5,
   "metadata": {},
   "outputs": [
    {
     "data": {
      "text/plain": [
       "array([ 2.45,  4.5 ,  6.55])"
      ]
     },
     "execution_count": 5,
     "metadata": {},
     "output_type": "execute_result"
    }
   ],
   "source": [
    "stats.mstats.mquantiles([1,2,3,4,5,6,7,8])"
   ]
  },
  {
   "cell_type": "code",
   "execution_count": 14,
   "metadata": {},
   "outputs": [
    {
     "data": {
      "text/plain": [
       "array([ 16.2,  19. ,  22.8])"
      ]
     },
     "execution_count": 14,
     "metadata": {},
     "output_type": "execute_result"
    }
   ],
   "source": [
    "stats.mstats.mquantiles([14,15,16,16,17,18,18,19,19,20,21,11,22,22,23,24,24,25,26])"
   ]
  },
  {
   "cell_type": "markdown",
   "metadata": {},
   "source": [
    "ex1\n",
    "14、15、16，16．17、18、18、19、19、20．2l，11、22、22、23、24、24、25、26\n",
    "n代表總體單位數\n",
    "Q1、Q2、Q3\n",
    "\n",
    "Q1位置{n+1} / {4}={19+1} / {4}=5位置, 則Q1=17\n",
    "Q2位置{2(n+1)} / {4}={40} / {4}=10位置，則Q2＝20\n",
    "Q3位置{3(n+1)} / {4}= {60} / {4}=15位置，則Q3＝23\n",
    "\n",
    "python 跟 scipy四分位的公式不太一樣， 四分位數就是去算25% ，50%，75% 位置的值\n",
    "\n",
    "ex2\n",
    "\n",
    "7, 15, 36, 39, 40, 41\n",
    "\n",
    "Q1 = (6+1) / 4 = 7/4 = 1.75 位置, 7.75\n",
    "Q2 = 2(6+1) / 4 = 14/4 = 3.5 位置, 36.5\n",
    "Q3 = 3(6+1) / 4 = 21/4 = 5.25 位置, 40.25\n",
    "\n"
   ]
  },
  {
   "cell_type": "markdown",
   "metadata": {},
   "source": [
    "## 共變數（Covariance）\n",
    "在機率論和統計學中用於衡量兩個變量的總體誤差"
   ]
  },
  {
   "cell_type": "code",
   "execution_count": 17,
   "metadata": {},
   "outputs": [
    {
     "data": {
      "text/html": [
       "<div>\n",
       "<style>\n",
       "    .dataframe thead tr:only-child th {\n",
       "        text-align: right;\n",
       "    }\n",
       "\n",
       "    .dataframe thead th {\n",
       "        text-align: left;\n",
       "    }\n",
       "\n",
       "    .dataframe tbody tr th {\n",
       "        vertical-align: top;\n",
       "    }\n",
       "</style>\n",
       "<table border=\"1\" class=\"dataframe\">\n",
       "  <thead>\n",
       "    <tr style=\"text-align: right;\">\n",
       "      <th></th>\n",
       "      <th>A</th>\n",
       "      <th>B</th>\n",
       "      <th>C</th>\n",
       "      <th>D</th>\n",
       "    </tr>\n",
       "  </thead>\n",
       "  <tbody>\n",
       "    <tr>\n",
       "      <th>A</th>\n",
       "      <td>0.088614</td>\n",
       "      <td>0.018454</td>\n",
       "      <td>-0.015929</td>\n",
       "      <td>0.000173</td>\n",
       "    </tr>\n",
       "    <tr>\n",
       "      <th>B</th>\n",
       "      <td>0.018454</td>\n",
       "      <td>0.060474</td>\n",
       "      <td>0.007147</td>\n",
       "      <td>0.055338</td>\n",
       "    </tr>\n",
       "    <tr>\n",
       "      <th>C</th>\n",
       "      <td>-0.015929</td>\n",
       "      <td>0.007147</td>\n",
       "      <td>0.032868</td>\n",
       "      <td>0.041366</td>\n",
       "    </tr>\n",
       "    <tr>\n",
       "      <th>D</th>\n",
       "      <td>0.000173</td>\n",
       "      <td>0.055338</td>\n",
       "      <td>0.041366</td>\n",
       "      <td>0.103688</td>\n",
       "    </tr>\n",
       "  </tbody>\n",
       "</table>\n",
       "</div>"
      ],
      "text/plain": [
       "          A         B         C         D\n",
       "A  0.088614  0.018454 -0.015929  0.000173\n",
       "B  0.018454  0.060474  0.007147  0.055338\n",
       "C -0.015929  0.007147  0.032868  0.041366\n",
       "D  0.000173  0.055338  0.041366  0.103688"
      ]
     },
     "execution_count": 17,
     "metadata": {},
     "output_type": "execute_result"
    }
   ],
   "source": [
    "df.cov()"
   ]
  },
  {
   "cell_type": "markdown",
   "metadata": {},
   "source": [
    "## 機率密度 \n",
    "是一個描述這個隨機變量的輸出值，在某個確定的取值點附近的可能性的函數。\n",
    "而隨機變量的取值落在某個區域之內的機率則為機率密度函數在這個區域上的積分。\n",
    "當機率密度函數存在的時候，累積分佈函數是機率密度函數的積分。\n",
    "機率密度函數一般以大寫「PDF」（Probability Density Function"
   ]
  },
  {
   "cell_type": "code",
   "execution_count": 18,
   "metadata": {},
   "outputs": [
    {
     "data": {
      "text/plain": [
       "<matplotlib.axes._subplots.AxesSubplot at 0x7f99638745f8>"
      ]
     },
     "execution_count": 18,
     "metadata": {},
     "output_type": "execute_result"
    },
    {
     "data": {
      "image/png": "[encoded data removed]",
      "text/plain": [
       "<matplotlib.figure.Figure at 0x7f9963853f60>"
      ]
     },
     "metadata": {},
     "output_type": "display_data"
    }
   ],
   "source": [
    "plt.rcParams['axes.unicode_minus']=False #正常顯示負號\n",
    "df.plot(kind='kde',title=\"PDF\")"
   ]
  },
  {
   "cell_type": "code",
   "execution_count": 21,
   "metadata": {},
   "outputs": [
    {
     "data": {
      "text/plain": [
       "A   -2.014649\n",
       "B   -1.603190\n",
       "C    3.611961\n",
       "D   -1.867495\n",
       "dtype: float64"
      ]
     },
     "execution_count": 21,
     "metadata": {},
     "output_type": "execute_result"
    }
   ],
   "source": [
    "#峰度（Kurtosis）\n",
    "df.kurt()"
   ]
  },
  {
   "cell_type": "code",
   "execution_count": 22,
   "metadata": {},
   "outputs": [
    {
     "data": {
      "text/plain": [
       "A   -0.657456\n",
       "B   -0.307333\n",
       "C   -1.661667\n",
       "D   -0.292044\n",
       "dtype: float64"
      ]
     },
     "execution_count": 22,
     "metadata": {},
     "output_type": "execute_result"
    }
   ],
   "source": [
    "#偏態（Skewness）\n",
    "df.skew()"
   ]
  },
  {
   "cell_type": "code",
   "execution_count": null,
   "metadata": {
    "collapsed": true
   },
   "outputs": [],
   "source": []
  }
 ],
 "metadata": {
  "kernelspec": {
   "display_name": "Python 3",
   "language": "python",
   "name": "python3"
  },
  "language_info": {
   "codemirror_mode": {
    "name": "ipython",
    "version": 3
   },
   "file_extension": ".py",
   "mimetype": "text/x-python",
   "name": "python",
   "nbconvert_exporter": "python",
   "pygments_lexer": "ipython3",
   "version": "3.5.1"
  }
 },
 "nbformat": 4,
 "nbformat_minor": 2
}
