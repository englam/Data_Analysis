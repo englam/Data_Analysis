{
 "cells": [
  {
   "cell_type": "markdown",
   "metadata": {},
   "source": [
    "## 四分位數與boxplot\n",
    "\n",
    "若異常值過大或過小，容易影響標準差，建議使用四分位數，因為Q1 -Q3比較不會被較多的異常值影響"
   ]
  },
  {
   "cell_type": "code",
   "execution_count": 1,
   "metadata": {},
   "outputs": [
    {
     "data": {
      "image/png": "[encoded data removed]",
      "text/plain": [
       "<matplotlib.figure.Figure at 0x7f1fc579b3c8>"
      ]
     },
     "metadata": {},
     "output_type": "display_data"
    }
   ],
   "source": [
    "import matplotlib.pyplot as plt\n",
    "import numpy as np\n",
    "\n",
    "%matplotlib inline\n",
    "\n",
    "x = np.random.randn(1000)\n",
    "r = plt.boxplot(x,showfliers=True) #show outliers\n",
    "plt.show()"
   ]
  },
  {
   "cell_type": "markdown",
   "metadata": {},
   "source": [
    "上面的四分位數的圈圈，代表超過範圍的極端數值(異常值），上面的為正值，下面的為負值\n",
    "\n",
    "四分位間距 IQR,  IQR = Q3 - Q1\n",
    "\n",
    "最大值: Q3 + 1.5 * IQR\n",
    "最小值: Q1 - 1.5 * IQR\n",
    "異常值: 高於最大值 或是 小於最小值\n"
   ]
  },
  {
   "cell_type": "code",
   "execution_count": 2,
   "metadata": {},
   "outputs": [
    {
     "data": {
      "text/plain": [
       "{'boxes': [<matplotlib.lines.Line2D at 0x7f1fa062e1d0>],\n",
       " 'caps': [<matplotlib.lines.Line2D at 0x7f1fa0640c50>,\n",
       "  <matplotlib.lines.Line2D at 0x7f1fa0640dd8>],\n",
       " 'fliers': [<matplotlib.lines.Line2D at 0x7f1fa0647e48>],\n",
       " 'means': [],\n",
       " 'medians': [<matplotlib.lines.Line2D at 0x7f1fa0647630>],\n",
       " 'whiskers': [<matplotlib.lines.Line2D at 0x7f1fd58b8160>,\n",
       "  <matplotlib.lines.Line2D at 0x7f1fa062ed68>]}"
      ]
     },
     "execution_count": 2,
     "metadata": {},
     "output_type": "execute_result"
    }
   ],
   "source": [
    "r"
   ]
  },
  {
   "cell_type": "code",
   "execution_count": 3,
   "metadata": {},
   "outputs": [
    {
     "data": {
      "text/plain": [
       "array([-2.65578733, -3.105065  , -2.59178491, -2.81694351, -3.11556087,\n",
       "       -3.35325616,  3.03936874])"
      ]
     },
     "execution_count": 3,
     "metadata": {},
     "output_type": "execute_result"
    }
   ],
   "source": [
    "#get outliers的值， 異常值的資料輸出方法\n",
    "r['fliers'][0].get_data()[1]"
   ]
  },
  {
   "cell_type": "code",
   "execution_count": 6,
   "metadata": {},
   "outputs": [
    {
     "name": "stdout",
     "output_type": "stream",
     "text": [
      "四分位數 [-0.65128599 -0.02522845  0.63129637]\n",
      "IQR 1.28258236029\n",
      "最大值 2.55516990932\n",
      "最小值 -2.57515953182\n"
     ]
    }
   ],
   "source": [
    "from scipy.stats.mstats import mquantiles\n",
    "\n",
    "#顯示 Q1, Q2, Q3的值\n",
    "print ('四分位數',mquantiles(x))\n",
    "\n",
    "IQR = mquantiles(x)[2] - mquantiles(x)[0]\n",
    "print ('IQR',IQR)\n",
    "\n",
    "maximun = mquantiles(x)[2] + 1.5 * IQR\n",
    "print ('最大值',maximun)\n",
    "\n",
    "minimum = mquantiles(x)[0] - 1.5 * IQR\n",
    "print ('最小值',minimum)"
   ]
  },
  {
   "cell_type": "code",
   "execution_count": null,
   "metadata": {
    "collapsed": true
   },
   "outputs": [],
   "source": []
  },
  {
   "cell_type": "markdown",
   "metadata": {},
   "source": [
    "## 常態分佈與標準差\n",
    "\n",
    "例如 身高、體重、成績等利用標準差較好"
   ]
  },
  {
   "cell_type": "code",
   "execution_count": null,
   "metadata": {
    "collapsed": true
   },
   "outputs": [],
   "source": []
  },
  {
   "cell_type": "markdown",
   "metadata": {},
   "source": [
    "平均 (mean), 標準差(std, sigma)\n",
    "上限: mean + 3 * sigma\n",
    "下限: mean - 3 * sigma\n",
    "異常值: 高於上限 或是 低於下限"
   ]
  },
  {
   "cell_type": "code",
   "execution_count": null,
   "metadata": {
    "collapsed": true
   },
   "outputs": [],
   "source": []
  }
 ],
 "metadata": {
  "kernelspec": {
   "display_name": "Python 3",
   "language": "python",
   "name": "python3"
  },
  "language_info": {
   "codemirror_mode": {
    "name": "ipython",
    "version": 3
   },
   "file_extension": ".py",
   "mimetype": "text/x-python",
   "name": "python",
   "nbconvert_exporter": "python",
   "pygments_lexer": "ipython3",
   "version": "3.5.1"
  }
 },
 "nbformat": 4,
 "nbformat_minor": 2
}
