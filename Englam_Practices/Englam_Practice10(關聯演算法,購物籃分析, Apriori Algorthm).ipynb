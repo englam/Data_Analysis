{
 "cells": [
  {
   "cell_type": "markdown",
   "metadata": {},
   "source": [
    "關聯規則的目的就是在一個數據集中找出項與項之間的關係，也被稱為購物籃分析 (Market Basket analysis)\n",
    "\n",
    "D:Transaction Database\n",
    "T：Transaction，資料庫中的一筆資料（交易），T ∈ D\n",
    "\n",
    "Support：A 和 B在所有購物籃紀錄中同時被購買的機率\n",
    "Support( X ) = Occur( X ) / Count( D ) = P( X )\n",
    "\n",
    "Confidence： A被買的情況下B也被買的機率\n",
    "Conf( X → Y) = Support( X ∪ Y ) / Support( X ) = P( Y | X )\n",
    "\n",
    "item = 購買項目\n",
    "itemset = 購物籃項目組合\n",
    "\n",
    "Candidate Itemset：通過 apriori 合併操作所得到的 itemset\n",
    "Frequent Itemset：support 值大於 min support 之 itemset\n",
    "\n",
    "C(k)：含有 k 個元素之 candicate itemset 之集合\n",
    "L(k)：含有 k 個元素之 frequent itemset 之集合\n",
    "\n",
    "\n",
    "和事件\n",
    "A={2,4,6,8,10}\n",
    "B={8,9,10}\n",
    "A ∪ B ={2,4,6,8,9,10}\n",
    "\n",
    "積事件\n",
    "A ⋂ B={8,10}\n",
    "\n",
    "\n",
    "e.g. \n",
    "B1 = apple,beer, rice, chicken\n",
    "B2 = apple, beer, rice\n",
    "B3 = apple, beer\n",
    "B4 = apple, mango\n",
    "B5 = milk, beer, rice, chicken\n",
    "B6 = milk, beer, rice\n",
    "B7 = milk, beer\n",
    "B8 = milk, mango\n",
    "\n",
    "\n",
    "Support (apple) = 4 / 8 = 0.5\n",
    "買apple的支持度為: 八個籃子裡面有四個蘋果，所以apple的支持度為0.5\n",
    "\n",
    "Support (apple -> beer) = 3/8 =0.375 \n",
    "同時買apple and beer的支持度為: 在八個籃子裡面有三組是符合條件的，所以apple ->beer = 0.375\n",
    "    \n",
    "有37.5%的機率會同時購買蘋果和啤酒\n",
    "\n",
    "    \n",
    "Confidence(apple -> beer) = (3/8) / (1/2) =0.75\n",
    "\n",
    "購買蘋果時有75%的機率會買啤酒\n"
   ]
  },
  {
   "cell_type": "markdown",
   "metadata": {},
   "source": [
    "Apriori演算法\n",
    "\n",
    "設定條件，低於threshold的則刪除\n",
    "support threshold = 0.3\n",
    "confidence threshold = 0.5\n",
    "\n",
    "e.g. \n",
    "B1 = apple,beer, rice, chicken \n",
    "B2 = apple, beer, rice \n",
    "B3 = apple, beer \n",
    "B4 = apple, mango \n",
    "B5 = milk, beer, rice, chicken \n",
    "B6 = milk, beer, rice \n",
    "B7 = milk, beer B8 = milk, mango\n",
    "\n",
    "項目集=1   支持度\n",
    "apple      0.5\n",
    "beer       0.75\n",
    "rice       0.5\n",
    "chicken    0.25\n",
    "mango      0.25\n",
    "milkl      0.5\n",
    "\n",
    "由於chicken and mango不到 0.3，所以刪掉\n",
    "\n",
    "下面的項目集2 就不需要再看chicken and mango\n",
    "\n",
    "項目集=2       支持度\n",
    "apple,beer    0.375\n",
    "apple,rice    0.25\n",
    "apple,milk    0\n",
    "beer,rice     0.5\n",
    "beer,milk     0.375\n",
    "rice,milk     0.25\n",
    "\n",
    "由於 (apple,rice) (apple,milk ) (rice,milk) 不到 0.3，所以刪掉\n",
    "下面的項目集2 就不需要再看chicken and mango\n",
    "\n",
    "項目集=2           支持度\n",
    "apple,beer,rice    0.25\n",
    "apple,beer,milk    0\n",
    "beer,rice,milk     0.25\n",
    "\n",
    "由於 全部都 不到 0.3，所以做到最後一步了\n",
    "\n",
    "所以最高的itemsets (i=2)， 頻繁項目集\n",
    "\n",
    "\n",
    "\n"
   ]
  },
  {
   "cell_type": "markdown",
   "metadata": {},
   "source": [
    "設定的confidence threshold = 0.5\n",
    "所以下列的信賴度小於0.5的話，要被刪除\n",
    "\n",
    "產生關聯規則，計算信賴度\n",
    "\n",
    "apple,beer    0.375\n",
    "beer,rice     0.5\n",
    "beer,milk     0.375\n",
    "\n",
    "關聯規則的方法為: \n",
    "\n",
    "apple,beer 左右交換得到\n",
    "apple > beer, beer > apple\n",
    "\n",
    "beer,rice  左右交換得到\n",
    "beer > rice , rice > beer\n",
    "\n",
    "beer,milk  左右交換得到\n",
    "beer > milk , milk > beer\n",
    "\n",
    "關聯規則          支持度         信賴度\n",
    "\n",
    "apple > beer     0.375         0.75\n",
    "beer > apple     0.375         0.5\n",
    "beer > rice      0.5           0.667\n",
    "rice > beer      0.5           1\n",
    "beer > milk      0.375         0.5\n",
    "milk > beer      0.375         0.75\n",
    "\n",
    "信賴度都符合條件，超過0.5"
   ]
  },
  {
   "cell_type": "code",
   "execution_count": 1,
   "metadata": {},
   "outputs": [
    {
     "name": "stdout",
     "output_type": "stream",
     "text": [
      "apple,beer,rice,chicken\n",
      "apple,beer,rice\n",
      "apple,beer\n",
      "apple,mango\n",
      "milk,beer,rice,chicken\n",
      "milk,beer,rice\n",
      "milk,beer\n",
      "milk,mango\n"
     ]
    }
   ],
   "source": [
    "f = open('tesco.csv','r')\n",
    "print(f.read())"
   ]
  },
  {
   "cell_type": "code",
   "execution_count": 2,
   "metadata": {},
   "outputs": [
    {
     "name": "stdout",
     "output_type": "stream",
     "text": [
      "item: ('apple', 'beer') , 0.375\r\n",
      "item: ('beer', 'milk') , 0.375\r\n",
      "item: ('milk',) , 0.500\r\n",
      "item: ('apple',) , 0.500\r\n",
      "item: ('rice',) , 0.500\r\n",
      "item: ('rice', 'beer') , 0.500\r\n",
      "item: ('beer',) , 0.750\r\n",
      "\r\n",
      "------------------------ RULES:\r\n",
      "Rule: ('beer',) ==> ('apple',) , 0.500\r\n",
      "Rule: ('beer',) ==> ('milk',) , 0.500\r\n",
      "Rule: ('beer',) ==> ('rice',) , 0.667\r\n",
      "Rule: ('apple',) ==> ('beer',) , 0.750\r\n",
      "Rule: ('milk',) ==> ('beer',) , 0.750\r\n",
      "Rule: ('rice',) ==> ('beer',) , 1.000\r\n"
     ]
    }
   ],
   "source": [
    "#\n",
    "# ! 指的是在system執行command line (不是在ipython shell)\n",
    "# s = support threshold, c = confidence threshold\n",
    "# apriori.py是別人寫好的模組，直接可以使用\n",
    "\n",
    "!python3 apriori.py -f tesco.csv -s 0.3 -c 0.5   "
   ]
  },
  {
   "cell_type": "code",
   "execution_count": null,
   "metadata": {
    "collapsed": true
   },
   "outputs": [],
   "source": []
  }
 ],
 "metadata": {
  "kernelspec": {
   "display_name": "Python 3",
   "language": "python",
   "name": "python3"
  },
  "language_info": {
   "codemirror_mode": {
    "name": "ipython",
    "version": 3
   },
   "file_extension": ".py",
   "mimetype": "text/x-python",
   "name": "python",
   "nbconvert_exporter": "python",
   "pygments_lexer": "ipython3",
   "version": "3.5.1"
  }
 },
 "nbformat": 4,
 "nbformat_minor": 2
}
