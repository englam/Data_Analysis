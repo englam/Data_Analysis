{
 "cells": [
  {
   "cell_type": "markdown",
   "metadata": {},
   "source": [
    "這邊介紹20%的人，持有80%的財產的概念 （80/20 rule)"
   ]
  },
  {
   "cell_type": "code",
   "execution_count": 3,
   "metadata": {},
   "outputs": [
    {
     "data": {
      "text/html": [
       "<div>\n",
       "<style>\n",
       "    .dataframe thead tr:only-child th {\n",
       "        text-align: right;\n",
       "    }\n",
       "\n",
       "    .dataframe thead th {\n",
       "        text-align: left;\n",
       "    }\n",
       "\n",
       "    .dataframe tbody tr th {\n",
       "        vertical-align: top;\n",
       "    }\n",
       "</style>\n",
       "<table border=\"1\" class=\"dataframe\">\n",
       "  <thead>\n",
       "    <tr style=\"text-align: right;\">\n",
       "      <th></th>\n",
       "      <th>BookID</th>\n",
       "      <th>Income</th>\n",
       "    </tr>\n",
       "  </thead>\n",
       "  <tbody>\n",
       "    <tr>\n",
       "      <th>0</th>\n",
       "      <td>B3</td>\n",
       "      <td>30000</td>\n",
       "    </tr>\n",
       "    <tr>\n",
       "      <th>1</th>\n",
       "      <td>B4</td>\n",
       "      <td>24000</td>\n",
       "    </tr>\n",
       "    <tr>\n",
       "      <th>2</th>\n",
       "      <td>B9</td>\n",
       "      <td>12000</td>\n",
       "    </tr>\n",
       "    <tr>\n",
       "      <th>3</th>\n",
       "      <td>B2</td>\n",
       "      <td>3000</td>\n",
       "    </tr>\n",
       "    <tr>\n",
       "      <th>4</th>\n",
       "      <td>B8</td>\n",
       "      <td>2300</td>\n",
       "    </tr>\n",
       "    <tr>\n",
       "      <th>5</th>\n",
       "      <td>B10</td>\n",
       "      <td>1800</td>\n",
       "    </tr>\n",
       "    <tr>\n",
       "      <th>6</th>\n",
       "      <td>B1</td>\n",
       "      <td>1000</td>\n",
       "    </tr>\n",
       "    <tr>\n",
       "      <th>7</th>\n",
       "      <td>B7</td>\n",
       "      <td>800</td>\n",
       "    </tr>\n",
       "    <tr>\n",
       "      <th>8</th>\n",
       "      <td>B6</td>\n",
       "      <td>400</td>\n",
       "    </tr>\n",
       "    <tr>\n",
       "      <th>9</th>\n",
       "      <td>B5</td>\n",
       "      <td>300</td>\n",
       "    </tr>\n",
       "  </tbody>\n",
       "</table>\n",
       "</div>"
      ],
      "text/plain": [
       "  BookID  Income\n",
       "0     B3   30000\n",
       "1     B4   24000\n",
       "2     B9   12000\n",
       "3     B2    3000\n",
       "4     B8    2300\n",
       "5    B10    1800\n",
       "6     B1    1000\n",
       "7     B7     800\n",
       "8     B6     400\n",
       "9     B5     300"
      ]
     },
     "execution_count": 3,
     "metadata": {},
     "output_type": "execute_result"
    }
   ],
   "source": [
    "import pandas as pd\n",
    "import matplotlib.pyplot as plt\n",
    "%matplotlib inline\n",
    "plt.style.use('ggplot')\n",
    "\n",
    "\n",
    "df = pd.DataFrame({'BookID':['B1','B2','B3','B4','B5','B6','B7','B8','B9','B10'],'Income':[1000,3000,30000,24000,300,400,800,2300,12000,1800]})\n",
    "df = df.sort_values(by=['Income'],ascending=False).reset_index(drop=True)\n",
    "df"
   ]
  },
  {
   "cell_type": "code",
   "execution_count": 4,
   "metadata": {},
   "outputs": [
    {
     "data": {
      "text/plain": [
       "30000"
      ]
     },
     "execution_count": 4,
     "metadata": {},
     "output_type": "execute_result"
    }
   ],
   "source": [
    "df['Income'][0]"
   ]
  },
  {
   "cell_type": "code",
   "execution_count": 5,
   "metadata": {},
   "outputs": [
    {
     "data": {
      "text/plain": [
       "75600"
      ]
     },
     "execution_count": 5,
     "metadata": {},
     "output_type": "execute_result"
    }
   ],
   "source": [
    "sum(df['Income'])"
   ]
  },
  {
   "cell_type": "code",
   "execution_count": 7,
   "metadata": {},
   "outputs": [
    {
     "data": {
      "text/plain": [
       "[0.3968253968253968,\n",
       " 0.71428571428571419,\n",
       " 0.87301587301587291,\n",
       " 0.91269841269841256,\n",
       " 0.94312169312169303,\n",
       " 0.96693121693121686,\n",
       " 0.98015873015873012,\n",
       " 0.9907407407407407,\n",
       " 0.99603174603174605,\n",
       " 1.0]"
      ]
     },
     "execution_count": 7,
     "metadata": {},
     "output_type": "execute_result"
    }
   ],
   "source": [
    "# 計算收入佔總收入百分比（累積）\n",
    "\n",
    "# x = df['Income'][i] / sum(df['Income']) 指的是 個數數值 / total 算出來佔total的幾 %\n",
    "# if(i!=0)  i不是0的話，計算方法 現在的數值（x) + 先前加過的數值 (p[i-1]), \n",
    "# else 因為一開始p是空值，所以要把i[0]先加進去\n",
    "\n",
    "p = []\n",
    "for i in range(len(df)):\n",
    "    \n",
    "    x = df['Income'][i]/sum(df['Income'])\n",
    "    \n",
    "    if(i!=0):\n",
    "        p.append(x+p[i-1])\n",
    "    else:\n",
    "        p.append(x)\n",
    "p"
   ]
  },
  {
   "cell_type": "markdown",
   "metadata": {},
   "source": [
    "在第三個的數值的時候，就已經超過 80%的收益了，所以下面用畫圖來找出80%的位置，但是要設定二個y軸，所以要注意一些地方"
   ]
  },
  {
   "cell_type": "code",
   "execution_count": 20,
   "metadata": {},
   "outputs": [
    {
     "data": {
      "image/png": "[encoded data removed]",
      "text/plain": [
       "<matplotlib.figure.Figure at 0x7f1e447bcc88>"
      ]
     },
     "metadata": {},
     "output_type": "display_data"
    }
   ],
   "source": [
    "fig, ax1 = plt.subplots()\n",
    "\n",
    "#book的單價的長條圖為 ax1\n",
    "ax1.bar(df.index,df['Income'],align='center')\n",
    "ax1.set_ylabel('Incom')\n",
    "ax1.set_xlabel('Book ID')\n",
    "\n",
    "# ax2共用ax1的x軸, 實線圖為 ax2\n",
    "ax2 = ax1.twinx()\n",
    "ax2.plot(df.index, p, 'r-')\n",
    "ax2.set_ylabel('Incom Rate')\n",
    "ax2.grid(False) #把ax2的格線關掉\n",
    "\n",
    "#標註過80%的點\n",
    "#annotate指的是標註\n",
    "\n",
    "for i in range(len(p)):\n",
    "    if(p[i]>0.8):\n",
    "        #在ax2上面做標註， round取第三個小數點, xy=(箭頭指的點), xytext=(標註文字的位置),  +0.8 怕點跟文字重疊， 所以把文字加0.8\n",
    "        ax2.annotate(round(p[i],3),xy=(df.index[i],p[i]),xytext=(df.index[i],p[i]+0.08), \n",
    "                     arrowprops=dict(facecolor='black'))\n",
    "        break\n",
    "\n",
    "plt.xticks(df.index, df['BookID'])\n",
    "#plt.title('收入主次因素分析')\n",
    "plt.title('Icom Analysis')\n",
    "\n",
    "plt.show()\n",
    "\n"
   ]
  },
  {
   "cell_type": "code",
   "execution_count": null,
   "metadata": {
    "collapsed": true
   },
   "outputs": [],
   "source": []
  }
 ],
 "metadata": {
  "kernelspec": {
   "display_name": "Python 3",
   "language": "python",
   "name": "python3"
  },
  "language_info": {
   "codemirror_mode": {
    "name": "ipython",
    "version": 3
   },
   "file_extension": ".py",
   "mimetype": "text/x-python",
   "name": "python",
   "nbconvert_exporter": "python",
   "pygments_lexer": "ipython3",
   "version": "3.5.1"
  }
 },
 "nbformat": 4,
 "nbformat_minor": 2
}
